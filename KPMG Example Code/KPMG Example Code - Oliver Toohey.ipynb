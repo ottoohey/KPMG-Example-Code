{
 "cells": [
  {
   "cell_type": "code",
   "execution_count": 1,
   "metadata": {},
   "outputs": [],
   "source": [
    "# import necessary libraries\n",
    "import pandas as pd\n",
    "import math\n",
    "from sklearn.model_selection import train_test_split\n",
    "\n",
    "# read data from training files\n",
    "data = pd.read_csv(\"train.csv\")\n",
    "\n",
    "# set target and take away from training data\n",
    "y = data.SalePrice\n",
    "X = data.drop([\"SalePrice\"], axis=1)"
   ]
  },
  {
   "cell_type": "code",
   "execution_count": 2,
   "metadata": {},
   "outputs": [
    {
     "name": "stdout",
     "output_type": "stream",
     "text": [
      "Column: (total missing, percentage of column length)\n"
     ]
    },
    {
     "data": {
      "text/plain": [
       "[{'LotFrontage': (259, 17.74)},\n",
       " {'Alley': (1369, 93.77)},\n",
       " {'MasVnrType': (8, 0.55)},\n",
       " {'MasVnrArea': (8, 0.55)},\n",
       " {'BsmtQual': (37, 2.54)},\n",
       " {'BsmtCond': (37, 2.54)},\n",
       " {'BsmtExposure': (38, 2.61)},\n",
       " {'BsmtFinType1': (37, 2.54)},\n",
       " {'BsmtFinType2': (38, 2.61)},\n",
       " {'Electrical': (1, 0.07)},\n",
       " {'FireplaceQu': (690, 47.27)},\n",
       " {'GarageType': (81, 5.55)},\n",
       " {'GarageYrBlt': (81, 5.55)},\n",
       " {'GarageFinish': (81, 5.55)},\n",
       " {'GarageQual': (81, 5.55)},\n",
       " {'GarageCond': (81, 5.55)},\n",
       " {'PoolQC': (1453, 99.53)},\n",
       " {'Fence': (1179, 80.76)},\n",
       " {'MiscFeature': (1406, 96.31)}]"
      ]
     },
     "execution_count": 2,
     "metadata": {},
     "output_type": "execute_result"
    }
   ],
   "source": [
    "# check for amount of missing values in dataset\n",
    "# calculate total number of missing values in each column\n",
    "# divide number of empty values by total length of column for each column in dataset with missing values\n",
    "print(\"Column: (total missing, percentage of column length)\")\n",
    "[{x:(X[x].isna().sum(), math.ceil(X[x].isna().sum()*100/len(X.index)*100)/100)} \n",
    "for x in X.columns[X.isna().any()]]"
   ]
  },
  {
   "cell_type": "code",
   "execution_count": 3,
   "metadata": {},
   "outputs": [],
   "source": [
    "# get rid of unecessary columns\n",
    "# drop anything with 90+ percent values missing as well as Id column\n",
    "X.drop(columns=[\"Alley\", \"PoolArea\", \"PoolQC\", \"MiscFeature\", \"Id\"], axis=1, inplace=True)"
   ]
  },
  {
   "cell_type": "code",
   "execution_count": 4,
   "metadata": {},
   "outputs": [],
   "source": [
    "# categorical columns\n",
    "# place low cardinatlity categorical columns\n",
    "# check if uninique values is less than 10 and also a string\n",
    "low_cat_cols = [cname for cname in X.columns if X[cname].nunique() < 10 and X[cname].dtype == \"object\"]\n",
    "\n",
    "# numerical columns\n",
    "# check columns for all integer and float values\n",
    "num_cols = [cname for cname in X.columns if X[cname].dtype in [\"int64\", \"float64\"]]"
   ]
  },
  {
   "cell_type": "code",
   "execution_count": 5,
   "metadata": {},
   "outputs": [],
   "source": [
    "# set training and validation, split\n",
    "train_X, val_X, train_y, val_y = train_test_split(X, y, train_size=0.8, test_size=0.2, random_state=1)"
   ]
  },
  {
   "cell_type": "code",
   "execution_count": 6,
   "metadata": {},
   "outputs": [],
   "source": [
    "from sklearn.compose import ColumnTransformer\n",
    "from sklearn.pipeline import Pipeline\n",
    "from sklearn.impute import SimpleImputer\n",
    "from sklearn.preprocessing import OneHotEncoder\n",
    "\n",
    "# impute numerical columns with median of column values\n",
    "num_transformer = SimpleImputer(strategy=\"median\")\n",
    "\n",
    "# impute categorical columns with most frequent value and then one hot encode\n",
    "cat_transformer = Pipeline(steps=[(\"imputer\", SimpleImputer(strategy=\"most_frequent\")), \n",
    "                                 (\"onehot\", OneHotEncoder(handle_unknown=\"ignore\"))])\n",
    "\n",
    "# preprocess the columns\n",
    "preprocessor = ColumnTransformer(transformers=[(\"num\", num_transformer, num_cols), \n",
    "                                              (\"cat\", cat_transformer, low_cat_cols)])"
   ]
  },
  {
   "cell_type": "code",
   "execution_count": 7,
   "metadata": {},
   "outputs": [],
   "source": [
    "# create 2 models to test with\n",
    "# random state to make solution easier to replicate\n",
    "from sklearn.ensemble import RandomForestRegressor\n",
    "\n",
    "#n_estimators increased to have more trees before taking average for predictions\n",
    "# stop seeing meaningful improvements around 250\n",
    "# min leaf size to capture noise in data\n",
    "house_model = RandomForestRegressor(n_estimators=250, min_samples_leaf=1, random_state=1)\n",
    "\n",
    "from xgboost import XGBRegressor\n",
    "\n",
    "#n_estimators increased to have more trees before taking average for predictions\n",
    "# stop seeing meaningful improvements around 500\n",
    "house_model_2 = XGBRegressor(n_estimators=500, learning_rate=0.1, random_state=1)"
   ]
  },
  {
   "cell_type": "code",
   "execution_count": 8,
   "metadata": {},
   "outputs": [
    {
     "name": "stdout",
     "output_type": "stream",
     "text": [
      "MAE:  16498.024520547944\n"
     ]
    }
   ],
   "source": [
    "# calculate MAE for random\n",
    "from sklearn.metrics import mean_absolute_error\n",
    "\n",
    "# load preprocessed data and model into pipeline\n",
    "my_pipeline = Pipeline(steps=[(\"preprocessor\", preprocessor), (\"house_model\", house_model)])\n",
    "\n",
    "# fit training data to pipeline\n",
    "my_pipeline.fit(train_X, train_y)\n",
    "\n",
    "# predict house scores based on model\n",
    "predictions = my_pipeline.predict(val_X)\n",
    "\n",
    "# calculate mean absolute error\n",
    "score = mean_absolute_error(val_y, predictions)\n",
    "\n",
    "print(\"MAE: \", score)"
   ]
  },
  {
   "cell_type": "code",
   "execution_count": 9,
   "metadata": {},
   "outputs": [
    {
     "name": "stdout",
     "output_type": "stream",
     "text": [
      "MAE:  15232.421594071062\n"
     ]
    }
   ],
   "source": [
    "# calculate MAE for XGBoost\n",
    "from sklearn.metrics import mean_absolute_error\n",
    "\n",
    "# load preprocessed data and model into pipeline\n",
    "my_pipeline = Pipeline(steps=[(\"preprocessor\", preprocessor), (\"house_model_2\", house_model_2)])\n",
    "\n",
    "# fit training data to pipeline\n",
    "my_pipeline.fit(train_X, train_y)\n",
    "\n",
    "# predict house scores based on model\n",
    "predictions = my_pipeline.predict(val_X)\n",
    "\n",
    "# calculate mean absolute error\n",
    "score = mean_absolute_error(val_y, predictions)\n",
    "\n",
    "print(\"MAE: \", score)"
   ]
  },
  {
   "cell_type": "code",
   "execution_count": 10,
   "metadata": {},
   "outputs": [
    {
     "name": "stdout",
     "output_type": "stream",
     "text": [
      "MAE:  [16005.11531464 16493.71481699 17380.82285424 14613.80740315\n",
      " 17304.69183433]\n"
     ]
    }
   ],
   "source": [
    "from sklearn.model_selection import cross_val_score\n",
    "\n",
    "# cross validate scores to test model across all data\n",
    "scores = -1 * cross_val_score(my_pipeline, X, y, cv=5, scoring=\"neg_mean_absolute_error\")\n",
    "\n",
    "print(\"MAE: \", scores)"
   ]
  },
  {
   "cell_type": "code",
   "execution_count": 11,
   "metadata": {},
   "outputs": [
    {
     "name": "stdout",
     "output_type": "stream",
     "text": [
      "Average MAE:  16359.630444670376\n"
     ]
    }
   ],
   "source": [
    "print(\"Average MAE: \", scores.mean())\n",
    "\n",
    "# from these results, I can tell that the model is not very consistent at predicting house prices"
   ]
  },
  {
   "cell_type": "code",
   "execution_count": 12,
   "metadata": {},
   "outputs": [
    {
     "data": {
      "image/png": "[encoded data removed]",
      "text/plain": [
       "<Figure size 432x288 with 1 Axes>"
      ]
     },
     "metadata": {
      "needs_background": "light"
     },
     "output_type": "display_data"
    }
   ],
   "source": [
    "# scatter plot\n",
    "import matplotlib.pyplot as plt\n",
    "\n",
    "# plot Lot Area against house prices\n",
    "plt.scatter(train_X.LotArea, train_y)\n",
    "plt.show()"
   ]
  },
  {
   "cell_type": "code",
   "execution_count": 13,
   "metadata": {},
   "outputs": [],
   "source": [
    "# if I'd had more time I would have changed a few things:\n",
    "\n",
    "# firstly, I would have imputed values into columns in a more precise way\n",
    "# currently, I removed columns with too many missing values and then used basic imputations for other columns\n",
    "# for example, the PoolQC column which I removed could be imputed with \"No Pool\" instead of NA\n",
    "# this could potentially be done with a label encoder\n",
    "\n",
    "# secondly, I would have used scatter plots (as seen above) to try and find outliers to remove\n",
    "\n",
    "# finally, I would have fine-tuned my XGBoost more\n",
    "# right now, it is fairly basic, however still gives the best results compared to the Random Forest"
   ]
  },
  {
   "cell_type": "code",
   "execution_count": null,
   "metadata": {},
   "outputs": [],
   "source": []
  }
 ],
 "metadata": {
  "kernelspec": {
   "display_name": "Python 3",
   "language": "python",
   "name": "python3"
  },
  "language_info": {
   "codemirror_mode": {
    "name": "ipython",
    "version": 3
   },
   "file_extension": ".py",
   "mimetype": "text/x-python",
   "name": "python",
   "nbconvert_exporter": "python",
   "pygments_lexer": "ipython3",
   "version": "3.6.2"
  }
 },
 "nbformat": 4,
 "nbformat_minor": 4
}
